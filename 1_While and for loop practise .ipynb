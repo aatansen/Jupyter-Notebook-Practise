{
 "cells": [
  {
   "cell_type": "markdown",
   "id": "f389f5ef",
   "metadata": {},
   "source": [
    "While loop to print 0 to 9 number"
   ]
  },
  {
   "cell_type": "code",
   "execution_count": 7,
   "id": "dd743777",
   "metadata": {},
   "outputs": [
    {
     "name": "stdout",
     "output_type": "stream",
     "text": [
      "0\n",
      "1\n",
      "2\n",
      "3\n",
      "4\n",
      "5\n",
      "6\n",
      "7\n",
      "8\n",
      "9\n"
     ]
    }
   ],
   "source": [
    "i=0\n",
    "while i<10:\n",
    "    print(i)\n",
    "    i+=1"
   ]
  },
  {
   "cell_type": "markdown",
   "id": "ec369dbb",
   "metadata": {},
   "source": [
    "For loop to get prime number"
   ]
  },
  {
   "cell_type": "code",
   "execution_count": 8,
   "id": "b7fc6e0a",
   "metadata": {},
   "outputs": [
    {
     "name": "stdout",
     "output_type": "stream",
     "text": [
      "Prime number\n"
     ]
    }
   ],
   "source": [
    "num=7\n",
    "\n",
    "for i in range(2,num):\n",
    "    if num%i==0:\n",
    "        print(\"Not Prime number\")\n",
    "        break\n",
    "else:\n",
    "    print(\"Prime number\")"
   ]
  },
  {
   "cell_type": "markdown",
   "id": "f4ae1d17",
   "metadata": {},
   "source": [
    "For loop multiple prime number check "
   ]
  },
  {
   "cell_type": "code",
   "execution_count": 9,
   "id": "27639193",
   "metadata": {},
   "outputs": [
    {
     "name": "stdout",
     "output_type": "stream",
     "text": [
      "2\n",
      "3\n",
      "5\n",
      "7\n",
      "11\n",
      "13\n",
      "17\n",
      "19\n"
     ]
    }
   ],
   "source": [
    "for number in range(1,21):\n",
    "    if number!=1:\n",
    "        for i in range(2,number):\n",
    "            if number%i==0:\n",
    "                break\n",
    "        else:\n",
    "            print(number)"
   ]
  },
  {
   "cell_type": "markdown",
   "id": "aee5d2b9",
   "metadata": {},
   "source": [
    "While loop to check multiple prime number"
   ]
  },
  {
   "cell_type": "code",
   "execution_count": 10,
   "id": "2d83d60c",
   "metadata": {},
   "outputs": [
    {
     "name": "stdout",
     "output_type": "stream",
     "text": [
      "2\n",
      "3\n",
      "5\n",
      "7\n",
      "11\n",
      "13\n",
      "17\n",
      "19\n",
      "23\n",
      "29\n",
      "31\n",
      "37\n",
      "41\n",
      "43\n",
      "47\n",
      "53\n",
      "59\n",
      "61\n",
      "67\n",
      "71\n",
      "73\n",
      "79\n",
      "83\n",
      "89\n",
      "97\n",
      "Done\n"
     ]
    }
   ],
   "source": [
    "i=2\n",
    "while (i<100):\n",
    "    j=2\n",
    "    while(j<=(i/j)):\n",
    "        if not (i%j):\n",
    "            break\n",
    "        j=j+1\n",
    "    if(j>i/j):\n",
    "        print(i)\n",
    "    i=i+1 \n",
    "print(\"Done\")"
   ]
  },
  {
   "cell_type": "code",
   "execution_count": 11,
   "id": "14fd7319",
   "metadata": {},
   "outputs": [
    {
     "name": "stdout",
     "output_type": "stream",
     "text": [
      "2\n",
      "3\n",
      "5\n",
      "7\n",
      "11\n",
      "13\n",
      "17\n",
      "19\n"
     ]
    }
   ],
   "source": [
    "number=1\n",
    "while number<21:\n",
    "    if number!=1:\n",
    "        for i in range(2,number):\n",
    "            if number%i==0:\n",
    "                break\n",
    "        else:\n",
    "            print(number)\n",
    "    number+=1"
   ]
  }
 ],
 "metadata": {
  "kernelspec": {
   "display_name": "Python 3 (ipykernel)",
   "language": "python",
   "name": "python3"
  },
  "language_info": {
   "codemirror_mode": {
    "name": "ipython",
    "version": 3
   },
   "file_extension": ".py",
   "mimetype": "text/x-python",
   "name": "python",
   "nbconvert_exporter": "python",
   "pygments_lexer": "ipython3",
   "version": "3.10.1"
  }
 },
 "nbformat": 4,
 "nbformat_minor": 5
}
